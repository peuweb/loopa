{
  "nbformat": 4,
  "nbformat_minor": 0,
  "metadata": {
    "colab": {
      "provenance": []
    },
    "kernelspec": {
      "name": "python3",
      "display_name": "Python 3"
    },
    "language_info": {
      "name": "python"
    }
  },
  "cells": [
    {
      "cell_type": "code",
      "execution_count": null,
      "metadata": {
        "colab": {
          "base_uri": "https://localhost:8080/"
        },
        "id": "zYXDUi13iT4O",
        "outputId": "ec55ea33-e511-43bc-913b-f4eb8c106d3f"
      },
      "outputs": [
        {
          "output_type": "stream",
          "name": "stdout",
          "text": [
            "Requirement already satisfied: google-genai in /usr/local/lib/python3.11/dist-packages (1.15.0)\n",
            "Requirement already satisfied: anyio<5.0.0,>=4.8.0 in /usr/local/lib/python3.11/dist-packages (from google-genai) (4.9.0)\n",
            "Requirement already satisfied: google-auth<3.0.0,>=2.14.1 in /usr/local/lib/python3.11/dist-packages (from google-genai) (2.38.0)\n",
            "Requirement already satisfied: httpx<1.0.0,>=0.28.1 in /usr/local/lib/python3.11/dist-packages (from google-genai) (0.28.1)\n",
            "Requirement already satisfied: pydantic<3.0.0,>=2.0.0 in /usr/local/lib/python3.11/dist-packages (from google-genai) (2.11.4)\n",
            "Requirement already satisfied: requests<3.0.0,>=2.28.1 in /usr/local/lib/python3.11/dist-packages (from google-genai) (2.32.3)\n",
            "Requirement already satisfied: websockets<15.1.0,>=13.0.0 in /usr/local/lib/python3.11/dist-packages (from google-genai) (15.0.1)\n",
            "Requirement already satisfied: typing-extensions<5.0.0,>=4.11.0 in /usr/local/lib/python3.11/dist-packages (from google-genai) (4.13.2)\n",
            "Requirement already satisfied: idna>=2.8 in /usr/local/lib/python3.11/dist-packages (from anyio<5.0.0,>=4.8.0->google-genai) (3.10)\n",
            "Requirement already satisfied: sniffio>=1.1 in /usr/local/lib/python3.11/dist-packages (from anyio<5.0.0,>=4.8.0->google-genai) (1.3.1)\n",
            "Requirement already satisfied: cachetools<6.0,>=2.0.0 in /usr/local/lib/python3.11/dist-packages (from google-auth<3.0.0,>=2.14.1->google-genai) (5.5.2)\n",
            "Requirement already satisfied: pyasn1-modules>=0.2.1 in /usr/local/lib/python3.11/dist-packages (from google-auth<3.0.0,>=2.14.1->google-genai) (0.4.2)\n",
            "Requirement already satisfied: rsa<5,>=3.1.4 in /usr/local/lib/python3.11/dist-packages (from google-auth<3.0.0,>=2.14.1->google-genai) (4.9.1)\n",
            "Requirement already satisfied: certifi in /usr/local/lib/python3.11/dist-packages (from httpx<1.0.0,>=0.28.1->google-genai) (2025.4.26)\n",
            "Requirement already satisfied: httpcore==1.* in /usr/local/lib/python3.11/dist-packages (from httpx<1.0.0,>=0.28.1->google-genai) (1.0.9)\n",
            "Requirement already satisfied: h11>=0.16 in /usr/local/lib/python3.11/dist-packages (from httpcore==1.*->httpx<1.0.0,>=0.28.1->google-genai) (0.16.0)\n",
            "Requirement already satisfied: annotated-types>=0.6.0 in /usr/local/lib/python3.11/dist-packages (from pydantic<3.0.0,>=2.0.0->google-genai) (0.7.0)\n",
            "Requirement already satisfied: pydantic-core==2.33.2 in /usr/local/lib/python3.11/dist-packages (from pydantic<3.0.0,>=2.0.0->google-genai) (2.33.2)\n",
            "Requirement already satisfied: typing-inspection>=0.4.0 in /usr/local/lib/python3.11/dist-packages (from pydantic<3.0.0,>=2.0.0->google-genai) (0.4.0)\n",
            "Requirement already satisfied: charset-normalizer<4,>=2 in /usr/local/lib/python3.11/dist-packages (from requests<3.0.0,>=2.28.1->google-genai) (3.4.2)\n",
            "Requirement already satisfied: urllib3<3,>=1.21.1 in /usr/local/lib/python3.11/dist-packages (from requests<3.0.0,>=2.28.1->google-genai) (2.4.0)\n",
            "Requirement already satisfied: pyasn1<0.7.0,>=0.6.1 in /usr/local/lib/python3.11/dist-packages (from pyasn1-modules>=0.2.1->google-auth<3.0.0,>=2.14.1->google-genai) (0.6.1)\n"
          ]
        }
      ],
      "source": [
        "!pip install google-genai"
      ]
    },
    {
      "cell_type": "code",
      "source": [
        "# importação do sistema operacional\n",
        "import os\n",
        "\n",
        "# importa apenas o userdata parte da lib google.colab\n",
        "from google.colab import userdata\n",
        "\n",
        "# armazena na variável de ambiente a apikey\n",
        "os.environ['GOOGLE_API_KEY'] = userdata.get('GOOGLE_API_KEY')"
      ],
      "metadata": {
        "id": "2QZsDGtRi0cA"
      },
      "execution_count": null,
      "outputs": []
    },
    {
      "cell_type": "code",
      "source": [
        "from google import genai\n",
        "\n",
        "# cria o client do Google Genai\n",
        "client = genai.Client()"
      ],
      "metadata": {
        "id": "02wbsWgOjXs2"
      },
      "execution_count": null,
      "outputs": []
    },
    {
      "cell_type": "code",
      "source": [
        "# listando todos os modelos que existem\n",
        "\n",
        "for model in client.models.list():\n",
        "  print(model.name)"
      ],
      "metadata": {
        "colab": {
          "base_uri": "https://localhost:8080/"
        },
        "id": "grBwp3E6jmG7",
        "outputId": "62327b21-518a-494f-d1b9-98a810ac8eb6"
      },
      "execution_count": null,
      "outputs": [
        {
          "output_type": "stream",
          "name": "stdout",
          "text": [
            "models/chat-bison-001\n",
            "models/text-bison-001\n",
            "models/embedding-gecko-001\n",
            "models/gemini-1.0-pro-vision-latest\n",
            "models/gemini-pro-vision\n",
            "models/gemini-1.5-pro-latest\n",
            "models/gemini-1.5-pro-001\n",
            "models/gemini-1.5-pro-002\n",
            "models/gemini-1.5-pro\n",
            "models/gemini-1.5-flash-latest\n",
            "models/gemini-1.5-flash-001\n",
            "models/gemini-1.5-flash-001-tuning\n",
            "models/gemini-1.5-flash\n",
            "models/gemini-1.5-flash-002\n",
            "models/gemini-1.5-flash-8b\n",
            "models/gemini-1.5-flash-8b-001\n",
            "models/gemini-1.5-flash-8b-latest\n",
            "models/gemini-1.5-flash-8b-exp-0827\n",
            "models/gemini-1.5-flash-8b-exp-0924\n",
            "models/gemini-2.5-pro-exp-03-25\n",
            "models/gemini-2.5-pro-preview-03-25\n",
            "models/gemini-2.5-flash-preview-04-17\n",
            "models/gemini-2.5-flash-preview-04-17-thinking\n",
            "models/gemini-2.5-pro-preview-05-06\n",
            "models/gemini-2.0-flash-exp\n",
            "models/gemini-2.0-flash\n",
            "models/gemini-2.0-flash-001\n",
            "models/gemini-2.0-flash-exp-image-generation\n",
            "models/gemini-2.0-flash-lite-001\n",
            "models/gemini-2.0-flash-lite\n",
            "models/gemini-2.0-flash-preview-image-generation\n",
            "models/gemini-2.0-flash-lite-preview-02-05\n",
            "models/gemini-2.0-flash-lite-preview\n",
            "models/gemini-2.0-pro-exp\n",
            "models/gemini-2.0-pro-exp-02-05\n",
            "models/gemini-exp-1206\n",
            "models/gemini-2.0-flash-thinking-exp-01-21\n",
            "models/gemini-2.0-flash-thinking-exp\n",
            "models/gemini-2.0-flash-thinking-exp-1219\n",
            "models/learnlm-2.0-flash-experimental\n",
            "models/gemma-3-1b-it\n",
            "models/gemma-3-4b-it\n",
            "models/gemma-3-12b-it\n",
            "models/gemma-3-27b-it\n",
            "models/embedding-001\n",
            "models/text-embedding-004\n",
            "models/gemini-embedding-exp-03-07\n",
            "models/gemini-embedding-exp\n",
            "models/aqa\n",
            "models/imagen-3.0-generate-002\n",
            "models/gemini-2.0-flash-live-001\n"
          ]
        }
      ]
    },
    {
      "cell_type": "code",
      "source": [
        "# define o model que vamos usar\n",
        "current_model = \"gemini-2.0-flash\"\n",
        "\n",
        "# primeira requisicao\n",
        "response = client.models.generate_content(model = current_model, contents=\"Como posso melhorar minha produtividade?\")"
      ],
      "metadata": {
        "id": "_wJabIOqkFdM"
      },
      "execution_count": null,
      "outputs": []
    },
    {
      "cell_type": "code",
      "source": [
        "response.text"
      ],
      "metadata": {
        "colab": {
          "base_uri": "https://localhost:8080/",
          "height": 214
        },
        "id": "bkTmVc68kfLO",
        "outputId": "680f2bc7-d519-4f21-f625-bba249dcc356"
      },
      "execution_count": null,
      "outputs": [
        {
          "output_type": "execute_result",
          "data": {
            "text/plain": [
              "'Melhorar a produtividade é um objetivo comum, e existem diversas estratégias que podem te ajudar a alcançar isso. A chave é encontrar as técnicas que melhor se adaptam ao seu estilo de trabalho, personalidade e às suas tarefas específicas. Aqui estão algumas dicas e abordagens para aumentar sua produtividade:\\n\\n**1. Defina Metas Claras e Realistas:**\\n\\n*   **Metas SMART:** Utilize o método SMART para definir metas:\\n    *   **S**pecific (Específica): Seja claro sobre o que você quer alcançar.\\n    *   **M**easurable (Mensurável): Como você vai saber que alcançou a meta?\\n    *   **A**ttainable (Alcançável): A meta é realista e possível de alcançar?\\n    *   **R**elevant (Relevante): A meta é importante e alinhada com seus objetivos maiores?\\n    *   **T**ime-bound (Temporal): Qual é o prazo para alcançar a meta?\\n*   **Divida grandes tarefas:** Quebre projetos grandes em tarefas menores e mais gerenciáveis. Isso torna o trabalho menos intimidante e te dá uma sensação de progresso constante.\\n*   **Priorize:** Nem todas as tarefas são criadas iguais. Use técnicas como a Matriz de Eisenhower (Urgente/Importante) para identificar as tarefas mais críticas e foque nelas primeiro.\\n\\n**2. Planeje seu Dia e Semana:**\\n\\n*   **Planejamento diário:** Reserve alguns minutos no final do dia anterior ou no início do dia para planejar suas atividades.\\n*   **Lista de tarefas:** Crie uma lista de tarefas (To-Do List) e priorize-as.\\n*   **Agendamento:** Bloqueie tempo em sua agenda para tarefas específicas, assim como faria com reuniões.\\n*   **Revise e ajuste:** No final do dia, revise o que você conseguiu realizar e ajuste seus planos para o dia seguinte, se necessário.\\n\\n**3. Gerencie seu Tempo Efetivamente:**\\n\\n*   **Técnica Pomodoro:** Trabalhe em blocos de tempo focados (por exemplo, 25 minutos) seguidos de pausas curtas (5 minutos). Após quatro ciclos, faça uma pausa mais longa (15-30 minutos).\\n*   **Time Blocking:** Reserve blocos de tempo específicos para diferentes tipos de tarefas.\\n*   **Evite Multitarefas:** Concentre-se em uma tarefa de cada vez. Multitarefas podem reduzir a eficiência e aumentar o tempo total necessário para completar as tarefas.\\n*   **Gerencie Interrupções:** Minimize distrações como notificações de e-mail, redes sociais e conversas desnecessárias. Defina horários específicos para verificar e responder a e-mails e mensagens.\\n\\n**4. Otimize seu Ambiente de Trabalho:**\\n\\n*   **Organização:** Mantenha seu espaço de trabalho limpo e organizado. Um ambiente arrumado pode ajudar a reduzir o estresse e aumentar a concentração.\\n*   **Ergonomia:** Ajuste sua cadeira, monitor e teclado para uma postura confortável e ergonômica.\\n*   **Iluminação:** Certifique-se de ter iluminação adequada para evitar fadiga ocular.\\n*   **Ruído:** Se possível, trabalhe em um local silencioso ou use fones de ouvido com cancelamento de ruído.\\n\\n**5. Cuide da sua Saúde e Bem-Estar:**\\n\\n*   **Sono:** Durma o suficiente (7-8 horas por noite) para se sentir descansado e energizado.\\n*   **Alimentação:** Faça refeições saudáveis e regulares para manter seus níveis de energia estáveis. Evite excesso de açúcar e alimentos processados.\\n*   **Exercício:** Pratique atividade física regularmente para reduzir o estresse, melhorar o humor e aumentar a energia.\\n*   **Pausas:** Faça pausas regulares durante o dia para se alongar, caminhar e descansar os olhos.\\n*   **Gerenciamento do Estresse:** Encontre maneiras saudáveis de lidar com o estresse, como meditação, ioga ou hobbies.\\n\\n**6. Use Ferramentas e Aplicativos:**\\n\\n*   **Gerenciadores de tarefas:** Trello, Asana, Todoist, Microsoft To Do\\n*   **Calendários:** Google Calendar, Outlook Calendar\\n*   **Aplicativos de foco:** Freedom, Forest\\n*   **Aplicativos de anotações:** Evernote, OneNote, Google Keep\\n*   **Ferramentas de automação:** Zapier, IFTTT\\n\\n**7. Aprenda a Dizer Não:**\\n\\n*   **Priorize seu tempo:** Não se sobrecarregue com tarefas que não são importantes ou que podem ser delegadas a outros.\\n*   **Seja assertivo:** Aprenda a dizer não a pedidos que não se encaixam em suas prioridades.\\n\\n**8. Delegue e Automatize:**\\n\\n*   **Delegue tarefas:** Se possível, delegue tarefas que podem ser realizadas por outras pessoas.\\n*   **Automatize tarefas repetitivas:** Use ferramentas de automação para agilizar processos e liberar tempo para tarefas mais importantes.\\n\\n**9. Aprenda Continuamente:**\\n\\n*   **Desenvolva novas habilidades:** Invista em seu desenvolvimento profissional para se tornar mais eficiente em seu trabalho.\\n*   **Leia livros e artigos:** Mantenha-se atualizado sobre as últimas tendências e melhores práticas em sua área.\\n\\n**10. Analise e Ajuste:**\\n\\n*   **Monitore seu progresso:** Acompanhe seu progresso em relação às suas metas e identifique áreas onde você pode melhorar.\\n*   **Experimente:** Teste diferentes técnicas e ferramentas para encontrar o que funciona melhor para você.\\n*   **Seja paciente:** Melhorar a produtividade é um processo contínuo. Não desanime se você não vir resultados imediatos.\\n\\n**Recursos Adicionais:**\\n\\n*   **Livros:**\\n    *   \"Os 7 Hábitos das Pessoas Altamente Eficazes\" de Stephen Covey\\n    *   \"A Arte de Fazer Acontecer\" de David Allen\\n    *   \"Essencialismo: A Disciplinada Busca por Menos\" de Greg McKeown\\n*   **Blogs e Websites:**\\n    *   Lifehacker\\n    *   Zen Habits\\n    *   Asian Efficiency\\n\\n**Em resumo:**\\n\\nNão existe uma fórmula mágica para aumentar a produtividade. Experimente diferentes técnicas, adapte-as às suas necessidades e encontre o que funciona melhor para você. A chave é ser consistente, persistente e estar disposto a aprender e se ajustar ao longo do tempo.  Boa sorte!\\n'"
            ],
            "application/vnd.google.colaboratory.intrinsic+json": {
              "type": "string"
            }
          },
          "metadata": {},
          "execution_count": 15
        }
      ]
    },
    {
      "cell_type": "code",
      "source": [
        "chat = client.chats.create(model = current_model)\n",
        "\n",
        "response = chat.send_message(\"Oi tudo bem?\")\n",
        "response.text"
      ],
      "metadata": {
        "colab": {
          "base_uri": "https://localhost:8080/",
          "height": 35
        },
        "id": "lSDnEHTFlARv",
        "outputId": "5d992471-50f4-4121-a894-6f938ab47acd"
      },
      "execution_count": null,
      "outputs": [
        {
          "output_type": "execute_result",
          "data": {
            "text/plain": [
              "'Tudo bem por aqui! 😊 Como posso te ajudar hoje?\\n'"
            ],
            "application/vnd.google.colaboratory.intrinsic+json": {
              "type": "string"
            }
          },
          "metadata": {},
          "execution_count": 18
        }
      ]
    },
    {
      "cell_type": "code",
      "source": [
        "response = chat.send_message(\"Você é um assistente pessoal e você sempre responde de fora sucinta. Como posso melhorar a minha produtividade?\")\n",
        "response.text"
      ],
      "metadata": {
        "colab": {
          "base_uri": "https://localhost:8080/",
          "height": 196
        },
        "id": "3s7OyXYklmCM",
        "outputId": "4ad6d5cb-bb3e-40a0-d7ed-871dc1cb3979"
      },
      "execution_count": null,
      "outputs": [
        {
          "output_type": "execute_result",
          "data": {
            "text/plain": [
              "'Entendi! Para melhorar sua produtividade, vamos direto ao ponto:\\n\\n1.  **Defina prioridades:** Use a matriz de Eisenhower (urgente/importante) para focar no que realmente importa.\\n\\n2.  **Gerencie seu tempo:** Experimente a técnica Pomodoro (25 min foco, 5 min pausa) ou blocos de tempo.\\n\\n3.  **Organize-se:** Use um aplicativo de lista de tarefas (Todoist, Google Tasks) para organizar suas tarefas.\\n\\n4.  **Elimine distrações:** Desligue notificações e encontre um ambiente de trabalho tranquilo.\\n\\n5.  **Automatize tarefas repetitivas:** Use ferramentas para automatizar e-mails, agendamentos, etc.\\n\\n6.  **Delegue:** Se possível, delegue tarefas que não precisam da sua atenção.\\n\\n7.  **Cuide de si:** Durma bem, alimente-se de forma saudável e faça pausas regulares.\\n\\n8.  **Revise e ajuste:** Avalie regularmente sua rotina e ajuste as estratégias que não estão funcionando.\\n\\nSe quiser algo mais específico, me diga qual área da sua produtividade te incomoda mais!\\n'"
            ],
            "application/vnd.google.colaboratory.intrinsic+json": {
              "type": "string"
            }
          },
          "metadata": {},
          "execution_count": 20
        }
      ]
    },
    {
      "cell_type": "code",
      "source": [
        "from google.genai import types\n",
        "\n",
        "chat_config = types.GenerateContentConfig(\n",
        "    system_instruction = \"Você é um assistente pessoal e você sempre responde de fora sucinta.\"\n",
        ")\n",
        "\n",
        "chat = client.chats.create(model = current_model, config = chat_config)"
      ],
      "metadata": {
        "id": "t4QyhYqtl7iy"
      },
      "execution_count": null,
      "outputs": []
    },
    {
      "cell_type": "code",
      "source": [
        "resposta = chat.send_message(\"Como posso priorizar melhor minhas atividades?\")\n",
        "resposta.text"
      ],
      "metadata": {
        "colab": {
          "base_uri": "https://localhost:8080/",
          "height": 71
        },
        "id": "3knehAnimY0d",
        "outputId": "50f62cd3-cba3-42e6-a251-00dac2b00674"
      },
      "execution_count": null,
      "outputs": [
        {
          "output_type": "execute_result",
          "data": {
            "text/plain": [
              "'*   Matriz de Eisenhower: priorize tarefas com base na urgência e importância.\\n*   Bloqueio de tempo: Agende blocos específicos para tarefas.\\n*   Regra 80/20: Concentre-se nas atividades que produzem os resultados mais significativos.'"
            ],
            "application/vnd.google.colaboratory.intrinsic+json": {
              "type": "string"
            }
          },
          "metadata": {},
          "execution_count": 25
        }
      ]
    },
    {
      "cell_type": "code",
      "source": [
        "chat.get_history()"
      ],
      "metadata": {
        "colab": {
          "base_uri": "https://localhost:8080/"
        },
        "id": "86w_B8Udmo1U",
        "outputId": "eeeded64-2e05-4d2e-b967-61bf6354fbfc"
      },
      "execution_count": null,
      "outputs": [
        {
          "output_type": "execute_result",
          "data": {
            "text/plain": [
              "[UserContent(parts=[Part(video_metadata=None, thought=None, inline_data=None, code_execution_result=None, executable_code=None, file_data=None, function_call=None, function_response=None, text='Como posso priorizar melhor minhas atividades?')], role='user'),\n",
              " Content(parts=[Part(video_metadata=None, thought=None, inline_data=None, code_execution_result=None, executable_code=None, file_data=None, function_call=None, function_response=None, text='Considere a matriz Eisenhower (Urgente/Importante), bloqueio de tempo e a regra 80/20.')], role='model'),\n",
              " UserContent(parts=[Part(video_metadata=None, thought=None, inline_data=None, code_execution_result=None, executable_code=None, file_data=None, function_call=None, function_response=None, text='Como posso priorizar melhor minhas atividades?')], role='user'),\n",
              " Content(parts=[Part(video_metadata=None, thought=None, inline_data=None, code_execution_result=None, executable_code=None, file_data=None, function_call=None, function_response=None, text='Considere a matriz Eisenhower, bloqueio de tempo e a regra 80/20.')], role='model'),\n",
              " UserContent(parts=[Part(video_metadata=None, thought=None, inline_data=None, code_execution_result=None, executable_code=None, file_data=None, function_call=None, function_response=None, text='Como posso priorizar melhor minhas atividades?')], role='user'),\n",
              " Content(parts=[Part(video_metadata=None, thought=None, inline_data=None, code_execution_result=None, executable_code=None, file_data=None, function_call=None, function_response=None, text='*   Matriz de Eisenhower: priorize tarefas com base na urgência e importância.\\n*   Bloqueio de tempo: Agende blocos específicos para tarefas.\\n*   Regra 80/20: Concentre-se nas atividades que produzem os resultados mais significativos.')], role='model')]"
            ]
          },
          "metadata": {},
          "execution_count": 26
        }
      ]
    },
    {
      "cell_type": "code",
      "source": [
        "prompt = input(\"Esperando o prompt:\")\n",
        "\n",
        "while prompt != \"fim\":\n",
        "  resposta = chat.send_message(prompt)\n",
        "  print(\"Resposta:\", resposta.text)\n",
        "  print(\"\\n\\n\")\n",
        "  prompt = input(\"Esperando o prompt:\")"
      ],
      "metadata": {
        "colab": {
          "base_uri": "https://localhost:8080/"
        },
        "id": "iOZct1dim0H4",
        "outputId": "a3adaee3-a558-43cc-8b68-ad062d83aca8"
      },
      "execution_count": null,
      "outputs": [
        {
          "name": "stdout",
          "output_type": "stream",
          "text": [
            "Esperando o prompt:Como posso melhorar?\n",
            "Resposta: Para melhoria pessoal:\n",
            "\n",
            "*   Defina objetivos claros.\n",
            "*   Procure feedback.\n",
            "*   Aprenda continuamente.\n",
            "*   Construa resiliência.\n",
            "*   Priorize o autocuidado.\n",
            "\n",
            "\n",
            "\n",
            "Esperando o prompt:fim\n"
          ]
        }
      ]
    },
    {
      "cell_type": "code",
      "source": [
        "# novo chat com outras caracteristivas\n",
        "\n",
        "chat_config_2 = types.GenerateContentConfig(\n",
        "    system_instruction = \"Você é um assistente pessoal que sempre responde contando piadas e rimando.\"\n",
        ")\n",
        "\n",
        "chat_2 = client.chats.create(model = current_model, config = chat_config_2)"
      ],
      "metadata": {
        "id": "GGpmJOs-nq-Z"
      },
      "execution_count": null,
      "outputs": []
    },
    {
      "cell_type": "code",
      "source": [
        "resposta = chat_2.send_message(\"Como posso priorizar melhor minhas atividades?\")\n",
        "print(resposta.text)"
      ],
      "metadata": {
        "colab": {
          "base_uri": "https://localhost:8080/"
        },
        "id": "ENHAKEO8n9U4",
        "outputId": "1735dd30-3fd6-410e-f2f1-b4fd8c9bd444"
      },
      "execution_count": null,
      "outputs": [
        {
          "output_type": "stream",
          "name": "stdout",
          "text": [
            "Para ter sucesso e não se afogar,\n",
            "Priorizar é a chave pra navegar:\n",
            "\n",
            "1.  **Urgente e importante:**\n",
            "    Apague o incêndio nesse instante!\n",
            "\n",
            "2.  **Importante, mas não urgente:**\n",
            "    Planeje com calma, seja inteligente.\n",
            "\n",
            "3.  **Urgente, mas não importante:**\n",
            "    Delegue essa tarefa, é um bom instante.\n",
            "\n",
            "4.  **Nem urgente, nem importante:**\n",
            "    Descarte sem dó, siga adiante!\n"
          ]
        }
      ]
    },
    {
      "cell_type": "code",
      "source": [],
      "metadata": {
        "id": "HumW77CFoDQH"
      },
      "execution_count": null,
      "outputs": []
    }
  ]
}